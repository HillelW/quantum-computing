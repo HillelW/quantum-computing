{
 "cells": [
  {
   "cell_type": "markdown",
   "id": "1bf63e3c",
   "metadata": {},
   "source": [
    "# Quantum Computing with Python\n",
    "\n",
    "Quantum computing algorithms can be expressed using the standard objects of linear algebra: matrices and vectors. Classical computers cannot run quantum algorithms at scale because the associated matrices and vectors become too large (a matrix that operates on n qbits requires 2^n entries). \n",
    "Still, we can understand the concepts behind quantum computing by running small examples on classical computers.\n",
    "\n",
    "\n",
    "## Matrix and Vector Operations\n",
    "\n",
    "We can think of a *matrix* as a function that maps ordered pairs of numbers into values from some set.\n",
    "\n",
    "For example, we can encode a 2 x 2 matrix consiting of only ones as follows:"
   ]
  },
  {
   "cell_type": "code",
   "execution_count": 1,
   "id": "38487638",
   "metadata": {},
   "outputs": [
    {
     "name": "stdout",
     "output_type": "stream",
     "text": [
      "entry (0, 0):\n"
     ]
    },
    {
     "data": {
      "text/plain": [
       "1"
      ]
     },
     "execution_count": 1,
     "metadata": {},
     "output_type": "execute_result"
    }
   ],
   "source": [
    "from typing import Tuple\n",
    "\n",
    "def matrix_function(indexes: Tuple[int, int]):\n",
    "    if indexes == (0, 0) or indexes == (0, 1) or indexes == (1, 0) or indexes == (1 ,1):\n",
    "        return 1\n",
    "    \n",
    "indexes = (0, 0)\n",
    "print('entry (0, 0):')\n",
    "matrix_function(indexes)"
   ]
  },
  {
   "cell_type": "markdown",
   "id": "1f59cea8",
   "metadata": {},
   "source": [
    "We can also encode the same matrix as follows:"
   ]
  },
  {
   "cell_type": "code",
   "execution_count": 2,
   "id": "7ad01516",
   "metadata": {},
   "outputs": [
    {
     "name": "stdout",
     "output_type": "stream",
     "text": [
      "entry (0, 0):\n",
      "1\n",
      "entry (0, 0):\n",
      "1\n",
      "The whole matrix:\n",
      "[[1, 1], [1, 1]]\n"
     ]
    }
   ],
   "source": [
    "d = {(0, 0):1, (0, 1): 1, (1, 0): 1, (1 ,1): 1}\n",
    "\n",
    "M = [[1, 1], [1, 1]]\n",
    "\n",
    "print('entry (0, 0):')\n",
    "print(d[(0, 0)])\n",
    "print('entry (0, 0):')\n",
    "print(M[0][0])\n",
    "\n",
    "print('The whole matrix:')\n",
    "print(M)"
   ]
  },
  {
   "cell_type": "markdown",
   "id": "468a3757",
   "metadata": {},
   "source": [
    "Going forward, we will use numpy to encode our matrices as follows:"
   ]
  },
  {
   "cell_type": "code",
   "execution_count": 3,
   "id": "c39954d5",
   "metadata": {},
   "outputs": [
    {
     "name": "stdout",
     "output_type": "stream",
     "text": [
      "[[1 1]\n",
      " [1 1]]\n"
     ]
    }
   ],
   "source": [
    "import numpy as np\n",
    "\n",
    "M = np.array([[1, 1], [1, 1]])\n",
    "print(M)"
   ]
  },
  {
   "cell_type": "markdown",
   "id": "64a3eb4b",
   "metadata": {},
   "source": [
    "Two matrices are equal if their corresponding components are equal. For example:"
   ]
  },
  {
   "cell_type": "code",
   "execution_count": 4,
   "id": "910aadc7",
   "metadata": {},
   "outputs": [
    {
     "name": "stdout",
     "output_type": "stream",
     "text": [
      "The matrices M and N are equal:\n",
      "True\n"
     ]
    }
   ],
   "source": [
    "M = np.array([[2, 4], [6, 8]])\n",
    "N = np.array([[1+1, 2+2], [3+3, 4+4]])\n",
    "\n",
    "print('The matrices M and N are equal:')\n",
    "print(np.array_equal(M, N))"
   ]
  },
  {
   "cell_type": "markdown",
   "id": "bbf76a38",
   "metadata": {},
   "source": [
    "Given two matrices, we can add them by adding their corresponding components. For example:"
   ]
  },
  {
   "cell_type": "code",
   "execution_count": 5,
   "id": "c7082627",
   "metadata": {},
   "outputs": [
    {
     "name": "stdout",
     "output_type": "stream",
     "text": [
      "A:\n",
      "[[1 2]\n",
      " [3 4]]\n",
      "B:\n",
      "[[5 6]\n",
      " [7 8]]\n",
      "A + B:\n",
      "[[ 6  8]\n",
      " [10 12]]\n"
     ]
    }
   ],
   "source": [
    "A = np.array([[1, 2], [3, 4]])\n",
    "B = np.array([[5, 6], [7, 8]])\n",
    "\n",
    "print('A:')\n",
    "print(A)\n",
    "print('B:')\n",
    "print(B)\n",
    "print('A + B:')\n",
    "print(A + B)"
   ]
  },
  {
   "cell_type": "markdown",
   "id": "9de0487b",
   "metadata": {},
   "source": [
    "Given two matrices, we can multiply them as follows:"
   ]
  },
  {
   "cell_type": "code",
   "execution_count": 6,
   "id": "d4d704d3",
   "metadata": {},
   "outputs": [
    {
     "name": "stdout",
     "output_type": "stream",
     "text": [
      "A:\n",
      "[[1 2]\n",
      " [3 4]]\n",
      "B:\n",
      "[[5 6]\n",
      " [7 8]]\n",
      "A x B:\n",
      "[[19 22]\n",
      " [43 50]]\n"
     ]
    }
   ],
   "source": [
    "A = np.array([[1, 2], [3, 4]])\n",
    "B = np.array([[5, 6], [7, 8]])\n",
    "print('A:')\n",
    "print(A)\n",
    "print('B:')\n",
    "print(B)\n",
    "print('A x B:')\n",
    "print(A @ B)"
   ]
  },
  {
   "cell_type": "markdown",
   "id": "f7df38c2",
   "metadata": {},
   "source": [
    "Given one matrix, we can scalar multiply that matrix as follows:"
   ]
  },
  {
   "cell_type": "code",
   "execution_count": 7,
   "id": "606c2c46",
   "metadata": {},
   "outputs": [
    {
     "name": "stdout",
     "output_type": "stream",
     "text": [
      "A:\n",
      "[[1 2]\n",
      " [3 4]]\n",
      "scalar x A:\n",
      "[[ 5 10]\n",
      " [15 20]]\n"
     ]
    }
   ],
   "source": [
    "A = np.array([[1, 2], [3, 4]])\n",
    "scalar = 5\n",
    "print('A:')\n",
    "print(A)\n",
    "print('scalar x A:')\n",
    "print(5 * A)"
   ]
  },
  {
   "cell_type": "markdown",
   "id": "f19b2df9",
   "metadata": {},
   "source": [
    "In general, the order of matrix multiplication is important. For example:"
   ]
  },
  {
   "cell_type": "code",
   "execution_count": 8,
   "id": "ac73842d",
   "metadata": {},
   "outputs": [
    {
     "name": "stdout",
     "output_type": "stream",
     "text": [
      "A:\n",
      "[[1 2]\n",
      " [3 4]]\n",
      "B:\n",
      "[[5 6]\n",
      " [7 8]]\n",
      "A x B:\n",
      "[[19 22]\n",
      " [43 50]]\n",
      "B x A:\n",
      "[[23 34]\n",
      " [31 46]]\n"
     ]
    }
   ],
   "source": [
    "A = np.array([[1, 2], [3, 4]])\n",
    "B = np.array([[5, 6], [7, 8]])\n",
    "print('A:')\n",
    "print(A)\n",
    "print('B:')\n",
    "print(B)\n",
    "print('A x B:')\n",
    "print(A @ B)\n",
    "print('B x A:')\n",
    "print(B @ A)"
   ]
  },
  {
   "cell_type": "markdown",
   "id": "5a375849",
   "metadata": {},
   "source": [
    "In the case of addition of numbers, if we add 0 to any number, we get back the same number. In the case of matrix addition, if we add the zero matrix to any matrix, we get back the same matrix. For example:"
   ]
  },
  {
   "cell_type": "code",
   "execution_count": 9,
   "id": "1ff8cf83",
   "metadata": {},
   "outputs": [
    {
     "name": "stdout",
     "output_type": "stream",
     "text": [
      "A:\n",
      "[[1 2]\n",
      " [3 4]]\n",
      "A + zero:\n",
      "[[1 2]\n",
      " [3 4]]\n",
      "zero + A:\n",
      "[[1 2]\n",
      " [3 4]]\n"
     ]
    }
   ],
   "source": [
    "A = np.array([[1, 2], [3, 4]])\n",
    "zero = np.array([[0, 0], [0, 0]])\n",
    "print('A:')\n",
    "print(A)\n",
    "print('A + zero:')\n",
    "print(A + zero)\n",
    "print('zero + A:')\n",
    "print(zero + A)"
   ]
  },
  {
   "cell_type": "markdown",
   "id": "03f5885c",
   "metadata": {},
   "source": [
    "In the case of multiplication of numbers, if we multiply any number by 1, we get back the same number. In the case of matrix multpilication, if we multiply any matrix by the identity matrix, we get back the same matrix. For example: "
   ]
  },
  {
   "cell_type": "code",
   "execution_count": 10,
   "id": "157ae8e9",
   "metadata": {},
   "outputs": [
    {
     "name": "stdout",
     "output_type": "stream",
     "text": [
      "A:\n",
      "[[1 2]\n",
      " [3 4]]\n",
      "A * identity:\n",
      "[[1. 2.]\n",
      " [3. 4.]]\n",
      "identity * A:\n",
      "[[1. 2.]\n",
      " [3. 4.]]\n"
     ]
    }
   ],
   "source": [
    "A = np.array([[1, 2], [3, 4]])\n",
    "identity = np.eye(2)\n",
    "print('A:')\n",
    "print(A)\n",
    "print('A * identity:')\n",
    "print(A @ identity )\n",
    "print('identity * A:')\n",
    "print(identity @ A)"
   ]
  },
  {
   "cell_type": "markdown",
   "id": "191be2c6",
   "metadata": {},
   "source": [
    "In the case of multiplication of real numbers, each real number x except for 0 has a *multiplicative inverse* 1/x such that when x is multiplied by its multiplicative inverse, the result is 1.\n",
    "\n",
    "In the case of matrices, some matrices have a multiplicative inverse and some do not. For example:"
   ]
  },
  {
   "cell_type": "code",
   "execution_count": 11,
   "id": "75d34f3a",
   "metadata": {},
   "outputs": [
    {
     "name": "stdout",
     "output_type": "stream",
     "text": [
      "A:\n",
      "[[1 2]\n",
      " [3 4]]\n",
      "multiplication of A by A_inv on the left or right results in the identity matrix:\n",
      "True\n",
      "True\n",
      "\n",
      "the zero matrix has no inverse!\n"
     ]
    }
   ],
   "source": [
    "import numpy.linalg as la\n",
    "\n",
    "A = np.array([[1, 2], [3, 4]])\n",
    "A_inv = la.inv(A)\n",
    "\n",
    "print('A:')\n",
    "print(A)\n",
    "\n",
    "print('multiplication of A by A_inv on the left or right results in the identity matrix:')\n",
    "print(np.allclose(A_inv @ A, np.eye(2)))\n",
    "print(np.allclose(A @ A_inv, np.eye(2)))\n",
    "\n",
    "# the zero matrix does not have an inverse\n",
    "zero = np.array([[0, 0], [0, 0]])\n",
    "try:\n",
    "    zero_inv = la.inv(zero)\n",
    "except:\n",
    "    print('\\nthe zero matrix has no inverse!')"
   ]
  },
  {
   "cell_type": "markdown",
   "id": "c8ba45df",
   "metadata": {},
   "source": [
    "Note that in the above example, we had to use the `allclose` function since we cannot use simple equality when using floating point numbers.\n",
    "\n",
    "We can obtain the *transpose* of a matrix by exchaning rows and columns. For example:"
   ]
  },
  {
   "cell_type": "code",
   "execution_count": 12,
   "id": "05940483",
   "metadata": {},
   "outputs": [
    {
     "name": "stdout",
     "output_type": "stream",
     "text": [
      "A:\n",
      "[[1 2]\n",
      " [3 4]]\n",
      "A Transpose:\n",
      "[[1 3]\n",
      " [2 4]]\n"
     ]
    }
   ],
   "source": [
    "A = np.array([[1, 2], [3, 4]])\n",
    "print('A:')\n",
    "print(A)\n",
    "print('A Transpose:')\n",
    "print(A.T)"
   ]
  },
  {
   "cell_type": "markdown",
   "id": "2b52fc8e",
   "metadata": {},
   "source": [
    "It is convenient to have a test that we can apply to a matrix to see whether or not a given matrix has an inverse. It turns out that a matrix having a non-zero determinant is equivalent to that matrix being invertible. Conversely, if the determinant of a matrix is the zero matrix, then that matrix is not invertibe. For example:"
   ]
  },
  {
   "cell_type": "code",
   "execution_count": 13,
   "id": "dd01f685",
   "metadata": {},
   "outputs": [
    {
     "name": "stdout",
     "output_type": "stream",
     "text": [
      "A:\n",
      "[[1 2]\n",
      " [3 4]]\n",
      "Determinant of A:\n",
      "-2.0000000000000004\n",
      "A has an inverse because its determinant is non-zero.\n",
      "Determinant of zero matrix:\n",
      "0.0\n",
      "the zero matrix has no inverse because its determinant is zero.\n"
     ]
    }
   ],
   "source": [
    "A = np.array([[1, 2], [3, 4]])\n",
    "A_inv = la.inv(A)\n",
    "A_det = la.det(A)\n",
    "\n",
    "print('A:')\n",
    "print(A)\n",
    "print('Determinant of A:')\n",
    "print(A_det)\n",
    "print('A has an inverse because its determinant is non-zero.')\n",
    "\n",
    "# the zero matrix does not have an inverse\n",
    "zero = np.array([[0, 0], [0, 0]])\n",
    "zero_det = la.det(zero)\n",
    "print('Determinant of zero matrix:')\n",
    "print(zero_det)\n",
    "print('the zero matrix has no inverse because its determinant is zero.')"
   ]
  },
  {
   "cell_type": "markdown",
   "id": "ef708a6c",
   "metadata": {},
   "source": [
    "A vector is simply a matrix where one of the indices is always 1. If the first component is always 1, we call such a vector a *row vector*. If second component is always 1, we call such a vector a *column vector*.\n",
    "\n",
    "The distinction between row vectors and column vectors is important in the context of vector operations such as the inner product, where we think of a row vector as a function that takes a column vector as input and returns a scalar as output.\n",
    "\n",
    "For example:"
   ]
  },
  {
   "cell_type": "code",
   "execution_count": 14,
   "id": "616ae73c",
   "metadata": {},
   "outputs": [
    {
     "name": "stdout",
     "output_type": "stream",
     "text": [
      "row vetor:\n",
      "[[1 2 3]]\n",
      "shape of row vector:\n",
      "(1, 3)\n",
      "column vector:\n",
      "[[1]\n",
      " [2]\n",
      " [3]]\n",
      "shape of column vector:\n",
      "(3, 1)\n"
     ]
    }
   ],
   "source": [
    "row_vector = np.array([[1, 2, 3]])    \n",
    "column_vector = np.array([[1, 2, 3]]).T \n",
    "\n",
    "print('row vetor:')\n",
    "print(row_vector)\n",
    "print('shape of row vector:')\n",
    "print(row_vector.shape)\n",
    "print('column vector:')\n",
    "print(column_vector)\n",
    "print('shape of column vector:')\n",
    "print(column_vector.shape)"
   ]
  },
  {
   "cell_type": "markdown",
   "id": "ed9e7738",
   "metadata": {},
   "source": [
    "If a vector has a shape (1, 3), then it has 1 row and 3 columns. If a vector has a shape (3, 1), then it has 3 rows and 1 column."
   ]
  },
  {
   "cell_type": "markdown",
   "id": "212b2839",
   "metadata": {},
   "source": [
    "Two vectors are equal if all of their components are equal. For example:"
   ]
  },
  {
   "cell_type": "code",
   "execution_count": 15,
   "id": "f2a5ddfc",
   "metadata": {},
   "outputs": [
    {
     "name": "stdout",
     "output_type": "stream",
     "text": [
      "v1 and v2 are equal:\n",
      "True\n"
     ]
    }
   ],
   "source": [
    "v1 = np.array([[2, 4, 6]]).T \n",
    "v2 = np.array([[1+1, 2+2, 3+3]]).T\n",
    "\n",
    "print('v1 and v2 are equal:')\n",
    "print(np.array_equal(v1, v2))"
   ]
  },
  {
   "cell_type": "markdown",
   "id": "a44d76e5",
   "metadata": {},
   "source": [
    "Two vectors are added component-wise:"
   ]
  },
  {
   "cell_type": "code",
   "execution_count": 16,
   "id": "23ff62e1",
   "metadata": {},
   "outputs": [
    {
     "data": {
      "text/plain": [
       "array([[5, 7, 9]])"
      ]
     },
     "execution_count": 16,
     "metadata": {},
     "output_type": "execute_result"
    }
   ],
   "source": [
    "v1 = np.array([[1, 2, 3]]) \n",
    "v2 = np.array([[4, 5, 6]]) \n",
    "\n",
    "v1 + v2"
   ]
  },
  {
   "cell_type": "markdown",
   "id": "d6f72740",
   "metadata": {},
   "source": [
    "We can multiply a vector by a scalar as follows:"
   ]
  },
  {
   "cell_type": "code",
   "execution_count": 17,
   "id": "0df5e64d",
   "metadata": {},
   "outputs": [
    {
     "data": {
      "text/plain": [
       "array([[ 5, 10, 15]])"
      ]
     },
     "execution_count": 17,
     "metadata": {},
     "output_type": "execute_result"
    }
   ],
   "source": [
    "v = np.array([[1, 2, 3]]) \n",
    "scalar = 5\n",
    "\n",
    "5 * v"
   ]
  },
  {
   "cell_type": "markdown",
   "id": "de0a833a",
   "metadata": {},
   "source": [
    "When added to another vector, the zero vector leaves the initial vector unchanged:"
   ]
  },
  {
   "cell_type": "code",
   "execution_count": 18,
   "id": "640b4a91",
   "metadata": {},
   "outputs": [
    {
     "data": {
      "text/plain": [
       "array([[1, 2, 3]])"
      ]
     },
     "execution_count": 18,
     "metadata": {},
     "output_type": "execute_result"
    }
   ],
   "source": [
    "v = np.array([[1, 2, 3]]) \n",
    "zero_vector = np.array([[0, 0, 0]]) \n",
    "\n",
    "v + zero_vector\n",
    "zero_vector + v"
   ]
  },
  {
   "cell_type": "markdown",
   "id": "2ea03ac1",
   "metadata": {},
   "source": [
    "We obtain a *linear combination* of vectors by combining vector addition with scalar multiplication. For example, the followwing is a linear combination of two vectors:"
   ]
  },
  {
   "cell_type": "code",
   "execution_count": 19,
   "id": "1ed3ef05",
   "metadata": {},
   "outputs": [
    {
     "data": {
      "text/plain": [
       "array([[14, 19, 24]])"
      ]
     },
     "execution_count": 19,
     "metadata": {},
     "output_type": "execute_result"
    }
   ],
   "source": [
    "v1 = np.array([[1, 2, 3]]) \n",
    "v2 = np.array([[4, 5, 6]]) \n",
    "\n",
    "(2 * v1) + (3 * v2)"
   ]
  },
  {
   "cell_type": "markdown",
   "id": "4a99b3dc",
   "metadata": {},
   "source": [
    "The notion of a linear combination is useful, since it allows us to decompose a vector into simpler components.\n",
    "\n",
    "In the context of quantum computing, we will need vectors whose entries are complex numbers. The following is an example of such a vector:"
   ]
  },
  {
   "cell_type": "code",
   "execution_count": 20,
   "id": "dfbc1cfe",
   "metadata": {},
   "outputs": [
    {
     "data": {
      "text/plain": [
       "array([[ 6. -4.j ],\n",
       "       [ 7. +3.j ],\n",
       "       [ 4.2-8.1j],\n",
       "       [-0. -3.j ]])"
      ]
     },
     "execution_count": 20,
     "metadata": {},
     "output_type": "execute_result"
    }
   ],
   "source": [
    "v = np.array([[\n",
    "               6 - 4j,\n",
    "               7 + 3j,\n",
    "               4.2 - 8.1j,\n",
    "               -3j\n",
    "]]).T\n",
    "v"
   ]
  },
  {
   "cell_type": "markdown",
   "id": "feec5fbf",
   "metadata": {},
   "source": [
    "Notice that in Python, we use the symbol `j` instead of `i` to denote the imaginary part of a complex number.\n",
    "\n",
    "Given a complex vector, the *conjugate* operation switches the sign on the imaginary component of each complex number in the vector. For example: "
   ]
  },
  {
   "cell_type": "code",
   "execution_count": 21,
   "id": "a983820a",
   "metadata": {},
   "outputs": [
    {
     "data": {
      "text/plain": [
       "array([[ 6. +4.j ],\n",
       "       [ 7. -3.j ],\n",
       "       [ 4.2+8.1j],\n",
       "       [-0. +3.j ]])"
      ]
     },
     "execution_count": 21,
     "metadata": {},
     "output_type": "execute_result"
    }
   ],
   "source": [
    "v = np.array([[\n",
    "               6 - 4j,\n",
    "               7 + 3j,\n",
    "               4.2 - 8.1j,\n",
    "               -3j\n",
    "]]).T\n",
    "\n",
    "np.conj(v)"
   ]
  },
  {
   "cell_type": "markdown",
   "id": "62b1e21f",
   "metadata": {},
   "source": [
    "Given a column vector, obtain its *dual vector* by applying the transpose and conjugation operation to the column vector. The operation which yields the dual vector is called the *dagger operation* or the *adjoint operation*. For example:"
   ]
  },
  {
   "cell_type": "code",
   "execution_count": 22,
   "id": "95006a70",
   "metadata": {},
   "outputs": [
    {
     "name": "stdout",
     "output_type": "stream",
     "text": [
      "v:\n",
      "[[ 6. -4.j ]\n",
      " [ 7. +3.j ]\n",
      " [ 4.2-8.1j]\n",
      " [-0. -3.j ]]\n",
      "\n",
      "dual vector of v:\n",
      "[[ 6. +4.j   7. -3.j   4.2+8.1j -0. +3.j ]]\n"
     ]
    }
   ],
   "source": [
    "v = np.array([[\n",
    "               6 - 4j,\n",
    "               7 + 3j,\n",
    "               4.2 - 8.1j,\n",
    "               -3j\n",
    "]]).T\n",
    "\n",
    "print('v:')\n",
    "print(v)\n",
    "print('\\ndual vector of v:')\n",
    "print(np.conj(v).T)"
   ]
  },
  {
   "cell_type": "markdown",
   "id": "721e2fa7",
   "metadata": {},
   "source": [
    "In the case of quantum computing, we represent the state of a quantum system as a linear combination, where the weights in the linear combination are complex numbers. In the context of quantum computing, we call a linear combination a *superposition*.\n",
    "\n",
    "For example:"
   ]
  },
  {
   "cell_type": "code",
   "execution_count": 23,
   "id": "e52717ae",
   "metadata": {},
   "outputs": [
    {
     "name": "stdout",
     "output_type": "stream",
     "text": [
      "superposition:\n",
      "[[0.57735027]\n",
      " [0.81649658]]\n"
     ]
    }
   ],
   "source": [
    "v1 = np.array([[1, 0]]).T\n",
    "v2 = np.array([[0, 1]]).T\n",
    "\n",
    "superposition = np.sqrt(1/3) * v1 + np.sqrt(2/3) * v2\n",
    "print('superposition:')\n",
    "print(superposition)"
   ]
  },
  {
   "cell_type": "markdown",
   "id": "fd262c84",
   "metadata": {},
   "source": [
    "Quantum computing imposes a strict constraint on the weights involved in such superpositions: the sum of absolute values squared of the weights must equal exactly 1. The reason for this constraint is that the absolute value squared of a given weight represents the probability of measuring the state associated with that weight.\n",
    "\n",
    "For example:"
   ]
  },
  {
   "cell_type": "code",
   "execution_count": 24,
   "id": "36cff4c5",
   "metadata": {},
   "outputs": [
    {
     "name": "stdout",
     "output_type": "stream",
     "text": [
      "probability of measuring state v1:\n",
      "0.3333333333333333\n",
      "probability of measuring state v2:\n",
      "0.6666666666666666\n",
      "probability of measuring either state v1 or state v2:\n",
      "1.0\n"
     ]
    }
   ],
   "source": [
    "print('probability of measuring state v1:')\n",
    "prob_v1 = np.abs(np.sqrt(1/3)) * np.abs(np.sqrt(1/3)) \n",
    "print(prob_v1)\n",
    "\n",
    "prob_v2 = np.abs(np.sqrt(2/3)) * np.abs(np.sqrt(2/3))\n",
    "print('probability of measuring state v2:')\n",
    "print(prob_v2)\n",
    "\n",
    "print('probability of measuring either state v1 or state v2:')\n",
    "print(prob_v1 + prob_v2)"
   ]
  },
  {
   "cell_type": "markdown",
   "id": "880dda6d",
   "metadata": {},
   "source": [
    "Given vectors v1 and v2, we can compute the *inner product* of the two vectors by applying the dagger operation to v1 and matrix multiplying v1 and v2. For example:"
   ]
  },
  {
   "cell_type": "code",
   "execution_count": 25,
   "id": "f74f52c0",
   "metadata": {},
   "outputs": [
    {
     "name": "stdout",
     "output_type": "stream",
     "text": [
      "v1:\n",
      "[[1.+2.j]\n",
      " [2.-2.j]]\n",
      "v2:\n",
      "[[-0. -1.j]\n",
      " [ 0.5+0.j]]\n",
      "inner product:\n",
      "(-1+0j)\n"
     ]
    }
   ],
   "source": [
    "v1 = np.array([[1+2j, 2-2j]]).T\n",
    "v2 = np.array([[-1j, 0.5]]).T\n",
    "\n",
    "new_v1 = np.conj(v1).T\n",
    "\n",
    "inner_prod = new_v1 @ v2\n",
    "\n",
    "print('v1:')\n",
    "print(v1)\n",
    "print('v2:')\n",
    "print(v2)\n",
    "print('inner product:')\n",
    "print(inner_prod[0][0])"
   ]
  },
  {
   "cell_type": "markdown",
   "id": "af94db42",
   "metadata": {},
   "source": [
    "The inner product gives us a way to measure the following: \n",
    "\n",
    "1. The *angle* between two vectors.\n",
    "2. The *norm* of a vector (a generalization of the notion of length)\n",
    "3. The distance between two vectors. \n",
    "\n",
    "If the inner product between two vectors is 0, then we say the two vectors are *orthogonal* (a generalization of the notion of a right angle). For example:"
   ]
  },
  {
   "cell_type": "code",
   "execution_count": 26,
   "id": "abbd5eb7",
   "metadata": {},
   "outputs": [
    {
     "name": "stdout",
     "output_type": "stream",
     "text": [
      "v1:\n",
      "[[1.+1.j]\n",
      " [2.-2.j]]\n",
      "v2:\n",
      "[[-0. -1.j]\n",
      " [ 0.5+0.j]]\n",
      "inner product:\n",
      "0j\n"
     ]
    }
   ],
   "source": [
    "v1 = np.array([[1+1j, 2-2j]]).T\n",
    "v2 = np.array([[-1j, 0.5]]).T\n",
    "\n",
    "inner_prod = np.vdot(v1, v2)\n",
    "\n",
    "print('v1:')\n",
    "print(v1)\n",
    "print('v2:')\n",
    "print(v2)\n",
    "print('inner product:')\n",
    "print(inner_prod)"
   ]
  },
  {
   "cell_type": "markdown",
   "id": "7c6368b8",
   "metadata": {},
   "source": [
    "The standard basis vectors are a set of vectors which have a 1 in one entry and zeros everywhere else. It is important to note that the standard basis vectors are orthogonal to each other, regardless of how many dimensions are involved:"
   ]
  },
  {
   "cell_type": "code",
   "execution_count": 27,
   "id": "98cb5cc3",
   "metadata": {},
   "outputs": [
    {
     "name": "stdout",
     "output_type": "stream",
     "text": [
      "inner product of v1 with v2:\n",
      "0\n",
      "inner product of v1 with v3:\n",
      "0\n",
      "inner product of v2 with v3:\n",
      "0\n"
     ]
    }
   ],
   "source": [
    "v1 = np.array([[1, 0, 0]])\n",
    "v2 = np.array([[0, 1, 0]])\n",
    "v3 = np.array([[0, 0, 1]])\n",
    "\n",
    "inner_prod_1 = np.vdot(v1.T, v2)\n",
    "inner_prod_2 = np.vdot(v1.T, v3)\n",
    "inner_prod_3 = np.vdot(v2.T, v3)\n",
    "\n",
    "print('inner product of v1 with v2:')\n",
    "print(inner_prod_1)\n",
    "print('inner product of v1 with v3:')\n",
    "print(inner_prod_2)\n",
    "print('inner product of v2 with v3:')\n",
    "print(inner_prod_3)"
   ]
  },
  {
   "cell_type": "markdown",
   "id": "143f5fa3",
   "metadata": {},
   "source": [
    "We say that the standard basis vectors *span* a given vector space because any vector in that space can be expressed as a linear combination of the basis vectors. For example:"
   ]
  },
  {
   "cell_type": "code",
   "execution_count": 28,
   "id": "0539d38a",
   "metadata": {},
   "outputs": [
    {
     "name": "stdout",
     "output_type": "stream",
     "text": [
      "v4:\n",
      "[[2 3 4]]\n",
      "v5:\n",
      "[[2 3 4]]\n"
     ]
    }
   ],
   "source": [
    "v1 = np.array([[1, 0, 0]])\n",
    "v2 = np.array([[0, 1, 0]])\n",
    "v3 = np.array([[0, 0, 1]])\n",
    "\n",
    "v4 = np.array([[2, 3, 4]])\n",
    "print ('v4:')\n",
    "print (v4)\n",
    "\n",
    "v5 = 2*v1 + 3*v2 + 4*v3\n",
    "print('v5:')\n",
    "print(v5)"
   ]
  },
  {
   "cell_type": "markdown",
   "id": "9a38a9ed",
   "metadata": {},
   "source": [
    "We can use the inner product to compute the norm of a vector by taking the inner product of the vector with itself and then taking the square root of the result. For example:"
   ]
  },
  {
   "cell_type": "code",
   "execution_count": 29,
   "id": "f99f9347",
   "metadata": {},
   "outputs": [
    {
     "name": "stdout",
     "output_type": "stream",
     "text": [
      "v:\n",
      "[[1]\n",
      " [1]]\n",
      "norm of v:\n",
      "1.4142135623730951\n"
     ]
    }
   ],
   "source": [
    "v = np.array([[1, 1]]).T\n",
    "print('v:')\n",
    "print(v)\n",
    "\n",
    "v_norm = np.sqrt(np.vdot(v, v))\n",
    "print('norm of v:')\n",
    "print(v_norm)"
   ]
  },
  {
   "cell_type": "markdown",
   "id": "ae9c0654",
   "metadata": {},
   "source": [
    "If the norm of a vector is exactly 1, we call such a vector a *unit vector*. For example:"
   ]
  },
  {
   "cell_type": "code",
   "execution_count": 30,
   "id": "59e373d7",
   "metadata": {},
   "outputs": [
    {
     "name": "stdout",
     "output_type": "stream",
     "text": [
      "u:\n",
      "[[1]\n",
      " [0]]\n",
      "norm of u:\n",
      "1.0\n"
     ]
    }
   ],
   "source": [
    "u = np.array([[1, 0]]).T\n",
    "print('u:')\n",
    "print(u)\n",
    "\n",
    "u_norm = np.sqrt(np.vdot(u, u))\n",
    "print('norm of u:')\n",
    "print(u_norm)"
   ]
  },
  {
   "cell_type": "markdown",
   "id": "69de1059",
   "metadata": {},
   "source": [
    "Given a vector that is not a unit vector, we can *normalize* that vector by computing its norm and then scalar multiplying the initial vector by one over its norm. For example:"
   ]
  },
  {
   "cell_type": "code",
   "execution_count": 31,
   "id": "70bcb87f",
   "metadata": {},
   "outputs": [
    {
     "name": "stdout",
     "output_type": "stream",
     "text": [
      "v:\n",
      "[[1]\n",
      " [1]]\n",
      "norm of v:\n",
      "1.4142135623730951\n",
      "normalized v:\n",
      "[[0.70710678]\n",
      " [0.70710678]]\n",
      "norm of new vector:\n",
      "1.0\n"
     ]
    }
   ],
   "source": [
    "v = np.array([[1, 1]]).T\n",
    "print('v:')\n",
    "print(v)\n",
    "\n",
    "v_norm = np.sqrt(np.vdot(v, v))\n",
    "print('norm of v:')\n",
    "print(v_norm)\n",
    "\n",
    "normalized_v = (1/v_norm) * v\n",
    "normalized_v_norm = np.sqrt(np.vdot(normalized_v, normalized_v))\n",
    "\n",
    "print('normalized v:')\n",
    "print(normalized_v)\n",
    "\n",
    "print('norm of new vector:')\n",
    "print(np.round(normalized_v_norm))"
   ]
  },
  {
   "cell_type": "markdown",
   "id": "62bedaa7",
   "metadata": {},
   "source": [
    "Recall that the standard basis vectors have a 1 in one component and zeros everywhere else. The standard basis vectors an example of an *orthonormal basis*, since each vector in the basis is normalized, and all of the vectors in the basis are orthogonal to each other. \n",
    "\n",
    "If we have a set of basis vectors which are not orthonormal, we can feed them into the Gram-Schmidt algorithm to obtain an orthonormal set of basis vectors as output. \n",
    "\n",
    "The classical Gram-Schmidt algorithm takes each vector and makes it orthogonal to all previous vectors. However, this algorithm turns out to not be numerically stable. If numerical precision is required, the modified Gram-Schmidt algorithm can be used instead. The modified Gram-Schmidt algorithm takes each vector and modifies it such that all forthcoming vectors are be orthogonal to it.\n",
    "\n",
    "An example of the classical Gram-Schmidt algorithm is as follows:"
   ]
  },
  {
   "cell_type": "code",
   "execution_count": 32,
   "id": "c66862a0",
   "metadata": {},
   "outputs": [
    {
     "name": "stdout",
     "output_type": "stream",
     "text": [
      "input vectors:\n",
      "[[0.+1.j]\n",
      " [0.+1.j]\n",
      " [0.+1.j]]\n",
      "[[0.+0.j]\n",
      " [0.+1.j]\n",
      " [0.+1.j]]\n",
      "[[0.+0.j]\n",
      " [0.+0.j]\n",
      " [0.+1.j]]\n",
      "output vectors:\n",
      "[[0.+0.577j]\n",
      " [0.+0.577j]\n",
      " [0.+0.577j]]\n",
      "[[0.-0.816j]\n",
      " [0.+0.408j]\n",
      " [0.+0.408j]]\n",
      "[[0.-0.j   ]\n",
      " [0.-0.707j]\n",
      " [0.+0.707j]]\n",
      "output vector norms:\n",
      "1.0\n",
      "1.0\n",
      "1.0\n",
      "output vector inner products:\n",
      "0j\n",
      "0j\n",
      "0j\n"
     ]
    }
   ],
   "source": [
    "def gram_schmidt(A):\n",
    "    \"\"\"\n",
    "       Orthogonalize a set of vectors stored as the columns of matrix A.\n",
    "       \n",
    "       Based on https://gist.github.com/iizukak/1287876?permalink_comment_id=2935521#gistcomment-2935521\n",
    "    \"\"\"\n",
    "    # number of vectors in the input matrix equals its number of columns\n",
    "    n = A.shape[1]\n",
    "    for j in range(n):\n",
    "        # To orthogonalize the vector in column j with respect to the\n",
    "        # previous vectors, subtract from it its projection onto\n",
    "        # each of the previous vectors.\n",
    "        for k in range(j):\n",
    "            A[:, j] -= np.vdot(A[:, k], A[:, j]) * A[:, k]\n",
    "        A[:, j] = A[:, j] / np.linalg.norm(A[:, j])\n",
    "    return A\n",
    "\n",
    "# initial basis vectors\n",
    "v1 = np.array([1j, 1j, 1j]).reshape((3,1))\n",
    "v2 = np.array([0, 1j, 1j]).reshape((3,1))\n",
    "v3 = np.array([0, 0, 1j]).reshape((3,1))\n",
    "\n",
    "# feed initial basis vectors into Gram-Schmidt Algorithm\n",
    "X = np.hstack([v1,v2,v3])\n",
    "\n",
    "# orthonormal basis vectors\n",
    "Y = np.round(gram_schmidt(X),3)\n",
    "\n",
    "print ('input vectors:')\n",
    "print(v1)\n",
    "print(v2)\n",
    "print(v3)\n",
    "\n",
    "b1 = Y[:, 0].reshape(3,1)\n",
    "b2 = Y[:, 1].reshape(3,1)\n",
    "b3 = Y[:, 2].reshape(3,1)\n",
    "\n",
    "print('output vectors:')\n",
    "print(b1)\n",
    "print(b2)\n",
    "print(b3)\n",
    "\n",
    "print('output vector norms:')\n",
    "print(np.round(la.norm(b1)))\n",
    "print(np.round(la.norm(b2)))\n",
    "print(np.round(la.norm(b3)))\n",
    "\n",
    "print('output vector inner products:')\n",
    "inner_prod_1 = np.vdot(b1.T, b2)\n",
    "inner_prod_2 = np.vdot(b1.T, b3)\n",
    "inner_prod_3 = np.vdot(b2.T, b3)\n",
    "print(inner_prod_1)\n",
    "print(inner_prod_2)\n",
    "print(inner_prod_3)"
   ]
  },
  {
   "cell_type": "markdown",
   "id": "11cd6a99",
   "metadata": {},
   "source": [
    "Given two vectors, we can compute the distance between the two vectors by subtracting one from the other to obtain a third vector and then measuring the norm of the third vector. For example:"
   ]
  },
  {
   "cell_type": "code",
   "execution_count": 33,
   "id": "c74a7020",
   "metadata": {},
   "outputs": [
    {
     "data": {
      "text/plain": [
       "1.4142135623730951"
      ]
     },
     "execution_count": 33,
     "metadata": {},
     "output_type": "execute_result"
    }
   ],
   "source": [
    "v1 = np.array([[1j, 0]]).T\n",
    "v2 = np.array([[0, 1j]]).T\n",
    "\n",
    "la.norm(v1 - v2)"
   ]
  },
  {
   "cell_type": "markdown",
   "id": "bd150a3f",
   "metadata": {},
   "source": [
    "We have seen that the inner product takes two vectors as input and returns one vector as output. In contrast, the *outer product* takes two vectors as input and returns a matrix as output. \n",
    "\n",
    "In particular, whereas the inner product multiplies a row vector by a column vector, the outer product multiplies a column vector by a row vector. \n",
    "\n",
    "Given two column vectors v1 and v2, the outer product is obtained by multiplying each element of v1 by each element of the dual vector of v2.\n",
    "\n",
    "For example:"
   ]
  },
  {
   "cell_type": "code",
   "execution_count": 34,
   "id": "10bdd7b0",
   "metadata": {},
   "outputs": [
    {
     "name": "stdout",
     "output_type": "stream",
     "text": [
      "outer product:\n"
     ]
    },
    {
     "data": {
      "text/plain": [
       "array([[ 4,  5],\n",
       "       [ 8, 10],\n",
       "       [12, 15]])"
      ]
     },
     "execution_count": 34,
     "metadata": {},
     "output_type": "execute_result"
    }
   ],
   "source": [
    "v1 = np.array([[1, 2, 3]]).T\n",
    "v2 = np.array([[4, 5]]).T\n",
    "\n",
    "print('outer product:')\n",
    "np.outer(v1, v2)"
   ]
  },
  {
   "cell_type": "markdown",
   "id": "0403e598",
   "metadata": {},
   "source": [
    "The *kronecker product* is closely related to the outer product in the sense that the kronecker product flattens the outer product into a single vector. For example:"
   ]
  },
  {
   "cell_type": "code",
   "execution_count": 35,
   "id": "cbcaee82",
   "metadata": {},
   "outputs": [
    {
     "name": "stdout",
     "output_type": "stream",
     "text": [
      "outer product:\n",
      "[[ 4  5]\n",
      " [ 8 10]\n",
      " [12 15]]\n",
      "kronecker product:\n"
     ]
    },
    {
     "data": {
      "text/plain": [
       "array([[ 4],\n",
       "       [ 5],\n",
       "       [ 8],\n",
       "       [10],\n",
       "       [12],\n",
       "       [15]])"
      ]
     },
     "execution_count": 35,
     "metadata": {},
     "output_type": "execute_result"
    }
   ],
   "source": [
    "v1 = np.array([[1, 2, 3]]).T\n",
    "v2 = np.array([[4, 5]]).T\n",
    "\n",
    "print('outer product:')\n",
    "print(np.outer(v1, v2))\n",
    "\n",
    "print('kronecker product:')\n",
    "np.kron(v1, v2)"
   ]
  },
  {
   "cell_type": "markdown",
   "id": "278f62cc",
   "metadata": {},
   "source": [
    "We can also apply the kronecker product to pairs of matrices. The kronecker product is also called the *tensor product*. For example:"
   ]
  },
  {
   "cell_type": "code",
   "execution_count": 36,
   "id": "22fdc651",
   "metadata": {},
   "outputs": [
    {
     "data": {
      "text/plain": [
       "array([[  3.  +2.j,   1. +18.j,  29. -11.j,   5.  -1.j,  19. +17.j,\n",
       "         18. -40.j,   0.  +2.j,  -8.  +6.j,  14. +10.j],\n",
       "       [ 26. +26.j,  18. +12.j,  -4. +19.j,  52.  +0.j,  30.  -6.j,\n",
       "         15. +23.j,  -4. +20.j,   0. +12.j, -10.  +4.j],\n",
       "       [  0.  +0.j,   3.  +2.j, -12. +31.j,   0.  +0.j,   5.  -1.j,\n",
       "         19. +43.j,   0.  +0.j,   0.  +2.j, -18.  +4.j],\n",
       "       [  0.  +0.j,   0.  +0.j,   0.  +0.j,  12.  +0.j,  36. +48.j,\n",
       "         60. -84.j,   6.  -3.j,  30. +15.j,   9. -57.j],\n",
       "       [  0.  +0.j,   0.  +0.j,   0.  +0.j, 120. +24.j,  72.  +0.j,\n",
       "         24. +60.j,  66. -18.j,  36. -18.j,  27. +24.j],\n",
       "       [  0.  +0.j,   0.  +0.j,   0.  +0.j,   0.  +0.j,  12.  +0.j,\n",
       "         24.+108.j,   0.  +0.j,   6.  -3.j,  39. +48.j],\n",
       "       [  2.  +0.j,   6.  +8.j,  10. -14.j,   4.  +4.j,  -4. +28.j,\n",
       "         48.  -8.j,   9.  +3.j,  15. +45.j,  66. -48.j],\n",
       "       [ 20.  +4.j,  12.  +0.j,   4. +10.j,  32. +48.j,  24. +24.j,\n",
       "        -12. +28.j,  84. +48.j,  54. +18.j,   3. +51.j],\n",
       "       [  0.  +0.j,   2.  +0.j,   4. +18.j,   0.  +0.j,   4.  +4.j,\n",
       "        -28. +44.j,   0.  +0.j,   9.  +3.j,  -9. +87.j]])"
      ]
     },
     "execution_count": 36,
     "metadata": {},
     "output_type": "execute_result"
    }
   ],
   "source": [
    "A = np.array([\n",
    "               [3+2j, 5-1j, 2j],\n",
    "               [0, 12, 6-3j],\n",
    "               [2, 4+4j, 9+3j]\n",
    "              ]\n",
    ")\n",
    "\n",
    "B = np.array([\n",
    "               [1, 3+4j, 5-7j],\n",
    "               [10+2j, 6, 2+5j],\n",
    "               [0, 1, 2+9j]\n",
    "              ]\n",
    ")\n",
    "\n",
    "np.kron(A, B)"
   ]
  },
  {
   "cell_type": "markdown",
   "id": "56beac5d",
   "metadata": {},
   "source": [
    "In the context of quantum mechanics, the outer product is related to the notion of a *projection operator*. In particular, if we take the outer product of a basis vector with itself, we obtain a projection operator. The *completeness relation* says that the sum of all projection operators always yields the identity matrix. \n",
    "\n",
    "For example:"
   ]
  },
  {
   "cell_type": "code",
   "execution_count": 37,
   "id": "c9724dd6",
   "metadata": {},
   "outputs": [
    {
     "name": "stdout",
     "output_type": "stream",
     "text": [
      "v1:\n",
      "[[0]\n",
      " [1]]\n",
      "v2:\n",
      "[[1]\n",
      " [0]]\n",
      "outer product of v1 with v1:\n",
      "[[0 0]\n",
      " [0 1]]\n",
      "outer product of v2 with v2:\n",
      "[[1 0]\n",
      " [0 0]]\n",
      "sum of outer products:\n",
      "[[1 0]\n",
      " [0 1]]\n"
     ]
    }
   ],
   "source": [
    "v1 = np.array([[0, 1]]).T\n",
    "v2 = np.array([[1, 0]]).T\n",
    "\n",
    "v1_outer_v1 = np.outer(v1, v1)\n",
    "v2_outer_v2 = np.outer(v2, v2)\n",
    "\n",
    "print('v1:')\n",
    "print(v1)\n",
    "print('v2:')\n",
    "print(v2)\n",
    "\n",
    "print('outer product of v1 with v1:')\n",
    "print(v1_outer_v1)\n",
    "print('outer product of v2 with v2:')\n",
    "print(v2_outer_v2)\n",
    "\n",
    "print('sum of outer products:')\n",
    "print(v1_outer_v1 + v2_outer_v2)"
   ]
  },
  {
   "cell_type": "markdown",
   "id": "823e2107",
   "metadata": {},
   "source": [
    "The reason that the outer product of a basis vector is called a *projection operator* is that such matrices have the effect of projecting out just one component of a given vector. For example:"
   ]
  },
  {
   "cell_type": "code",
   "execution_count": 38,
   "id": "bdc25e10",
   "metadata": {},
   "outputs": [
    {
     "name": "stdout",
     "output_type": "stream",
     "text": [
      "v1:\n",
      "[[1]\n",
      " [0]\n",
      " [0]]\n",
      "v2:\n",
      "[[0]\n",
      " [1]\n",
      " [0]]\n",
      "v3:\n",
      "[[0]\n",
      " [0]\n",
      " [1]]\n",
      "outer product of v1 with v1:\n",
      "[[1 0 0]\n",
      " [0 0 0]\n",
      " [0 0 0]]\n",
      "outer product of v2 with v2:\n",
      "[[0 0 0]\n",
      " [0 1 0]\n",
      " [0 0 0]]\n",
      "outer product of v3 with v3:\n",
      "[[0 0 0]\n",
      " [0 0 0]\n",
      " [0 0 1]]\n",
      "sum of outer products:\n",
      "[[1 0 0]\n",
      " [0 1 0]\n",
      " [0 0 1]]\n",
      "v:\n",
      "[[1.+2.j]\n",
      " [3.+4.j]\n",
      " [5.+6.j]]\n",
      "action of outer products on v:\n",
      "[[1.+2.j]\n",
      " [0.+0.j]\n",
      " [0.+0.j]]\n",
      "[[0.+0.j]\n",
      " [3.+4.j]\n",
      " [0.+0.j]]\n",
      "[[0.+0.j]\n",
      " [0.+0.j]\n",
      " [5.+6.j]]\n"
     ]
    }
   ],
   "source": [
    "v1 = np.array([[1, 0, 0]]).T\n",
    "v2 = np.array([[0, 1, 0]]).T\n",
    "v3 = np.array([[0, 0, 1]]).T\n",
    "\n",
    "v1_outer_v1 = np.outer(v1, v1)\n",
    "v2_outer_v2 = np.outer(v2, v2)\n",
    "v3_outer_v3 = np.outer(v3, v3)\n",
    "\n",
    "\n",
    "print('v1:')\n",
    "print(v1)\n",
    "print('v2:')\n",
    "print(v2)\n",
    "print('v3:')\n",
    "print(v3)\n",
    "\n",
    "print('outer product of v1 with v1:')\n",
    "print(v1_outer_v1)\n",
    "print('outer product of v2 with v2:')\n",
    "print(v2_outer_v2)\n",
    "\n",
    "print('outer product of v3 with v3:')\n",
    "print(v3_outer_v3)\n",
    "\n",
    "print('sum of outer products:')\n",
    "print(v1_outer_v1 + v2_outer_v2 + v3_outer_v3)\n",
    "\n",
    "v =  np.array([[1+2j, 3+4j, 5+6j]]).T\n",
    "\n",
    "print('v:')\n",
    "print(v)\n",
    "\n",
    "print ('action of outer products on v:')\n",
    "print(v1_outer_v1 @ v)\n",
    "print(v2_outer_v2 @ v)\n",
    "print(v3_outer_v3 @ v)"
   ]
  },
  {
   "cell_type": "markdown",
   "id": "5d75be69",
   "metadata": {},
   "source": [
    "from the above, we can see that the ith projection operator returns a vector containing only the ith component of the input vector, and all other components of the output vector are 0."
   ]
  },
  {
   "cell_type": "markdown",
   "id": "a50d7236",
   "metadata": {},
   "source": [
    "An n-by-n matrix $A$ is called *hermitian* if it is equal to $A^{T*}$, where $^*$ deontes the result of complex conjugating each entry in A. This operation is often denoted $A^\\dagger$ and pronounced \"dagger\". For example:"
   ]
  },
  {
   "cell_type": "code",
   "execution_count": 39,
   "id": "d7606338",
   "metadata": {},
   "outputs": [
    {
     "name": "stdout",
     "output_type": "stream",
     "text": [
      "A:\n",
      "[[ 5.  +0.j  4.  +5.j  6. -16.j]\n",
      " [ 4.  -5.j 13.  +0.j  7.  +0.j]\n",
      " [ 6. +16.j  7.  +0.j -2.1 +0.j]]\n",
      "A dagger:\n",
      "[[ 5.  -0.j  4.  +5.j  6. -16.j]\n",
      " [ 4.  -5.j 13.  -0.j  7.  -0.j]\n",
      " [ 6. +16.j  7.  -0.j -2.1 -0.j]]\n",
      "A is hermitian: True\n"
     ]
    }
   ],
   "source": [
    "A = np.array([\n",
    "              [5, 4+5j, 6-16j],\n",
    "              [4 - 5j, 13, 7],\n",
    "              [6 + 16j, 7, -2.1]])\n",
    "\n",
    "A_dagger = np.conj(A.T)\n",
    "\n",
    "print('A:')\n",
    "print(A)\n",
    "print('A dagger:')\n",
    "print(A_dagger)\n",
    "print('A is hermitian:', np.array_equal(A, A_dagger))"
   ]
  },
  {
   "cell_type": "markdown",
   "id": "3ad51557",
   "metadata": {},
   "source": [
    "A unitary matrix is a type of invertible matrix. A unitary matrix is invertible *and* its inverse\n",
    "is its own adjoint. That is, a matrix A is unitary if $A * A^\\dagger = I_n$ \n",
    "\n",
    "For example:"
   ]
  },
  {
   "cell_type": "code",
   "execution_count": 40,
   "id": "d222bae4",
   "metadata": {},
   "outputs": [
    {
     "name": "stdout",
     "output_type": "stream",
     "text": [
      "A:\n",
      "[[ 1.+0.j  1.+0.j]\n",
      " [ 0.+1.j -0.-1.j]]\n",
      "A dagger:\n",
      "[[ 1.-0.j  0.-1.j]\n",
      " [ 1.-0.j -0.+1.j]]\n",
      "A times A dagger:\n",
      "[[1.+0.j 0.+0.j]\n",
      " [0.-0.j 1.+0.j]]\n"
     ]
    }
   ],
   "source": [
    "A = np.array([\n",
    "    [1/np.sqrt(2), 1/np.sqrt(2)],\n",
    "    [1/np.sqrt(2)*1j, -1/np.sqrt(2)*1j]\n",
    "])\n",
    "\n",
    "print('A:')\n",
    "print(np.round(A))\n",
    "print('A dagger:')\n",
    "print(np.round(A.conj().T))\n",
    "print('A times A dagger:')\n",
    "print(np.round(A @ A.conj().T))"
   ]
  },
  {
   "cell_type": "markdown",
   "id": "9ef5e0dd",
   "metadata": {},
   "source": [
    "A unitary matrix preserves the norm. This is a consequence of the fact that a unitary matrix preserves the inner product, and the norm is defined using the inner product. From the persepcteive of quantum mechanics, a unitary matrix preserves probability and implies reversible transformations.\n",
    "\n",
    "The following example demonstrates how a unitary matrix preserves the inner product:"
   ]
  },
  {
   "cell_type": "code",
   "execution_count": 41,
   "id": "794a911d",
   "metadata": {},
   "outputs": [
    {
     "name": "stdout",
     "output_type": "stream",
     "text": [
      "v1:\n",
      "[[1]\n",
      " [2]]\n",
      "v2:\n",
      "[[3]\n",
      " [4]]\n",
      "U:\n",
      "[[ 0.70710678+0.j          0.70710678+0.j        ]\n",
      " [ 0.        +0.70710678j -0.        -0.70710678j]]\n",
      "inner product without U:\n",
      "11\n",
      "inner product with U:\n",
      "(11+0j)\n"
     ]
    }
   ],
   "source": [
    "v1 = np.array([[1, 2]]).T\n",
    "v2 = np.array([[3, 4]]).T\n",
    "\n",
    "U = np.array([\n",
    "    [1/np.sqrt(2), 1/np.sqrt(2)],\n",
    "    [1/np.sqrt(2)*1j, -1/np.sqrt(2)*1j]\n",
    "])\n",
    "\n",
    "print('v1:')\n",
    "print(v1)\n",
    "print('v2:')\n",
    "print(v2)\n",
    "print('U:')\n",
    "print(U)\n",
    "print('inner product without U:')\n",
    "print(np.vdot(v1, v2))\n",
    "print('inner product with U:')\n",
    "print(np.round(np.vdot(U@v1, U@v2)))"
   ]
  },
  {
   "cell_type": "markdown",
   "id": "ef201191",
   "metadata": {},
   "source": [
    "The following example demonstrates that a unitary matrix preserves the norm:"
   ]
  },
  {
   "cell_type": "code",
   "execution_count": 42,
   "id": "04338717",
   "metadata": {},
   "outputs": [
    {
     "name": "stdout",
     "output_type": "stream",
     "text": [
      "v:\n",
      "[[1]\n",
      " [2]]\n",
      "norm of v:\n",
      "2.0\n",
      "norm of v after multiplication by U:\n",
      "2.0\n"
     ]
    }
   ],
   "source": [
    "v = np.array([[1, 2]]).T\n",
    "\n",
    "U = np.array([\n",
    "    [1/np.sqrt(2), 1/np.sqrt(2)],\n",
    "    [1/np.sqrt(2)*1j, -1/np.sqrt(2)*1j]\n",
    "])\n",
    "\n",
    "print('v:')\n",
    "print(v)\n",
    "\n",
    "print('norm of v:')\n",
    "print(np.round(la.norm(v)))\n",
    "print('norm of v after multiplication by U:')\n",
    "print(np.round(la.norm((U @ v))))"
   ]
  },
  {
   "cell_type": "markdown",
   "id": "6d87bbdb",
   "metadata": {},
   "source": [
    "A unitary matrix also preserves distances between vectors. For example:"
   ]
  },
  {
   "cell_type": "code",
   "execution_count": 43,
   "id": "b07e568f",
   "metadata": {},
   "outputs": [
    {
     "name": "stdout",
     "output_type": "stream",
     "text": [
      "v1:\n",
      "[[1]\n",
      " [2]]\n",
      "v2:\n",
      "[[3]\n",
      " [4]]\n",
      "U:\n",
      "[[ 0.70710678+0.j          0.70710678+0.j        ]\n",
      " [ 0.        +0.70710678j -0.        -0.70710678j]]\n",
      "distance without U:\n",
      "2.82843\n",
      "distance with U:\n",
      "2.82843\n"
     ]
    }
   ],
   "source": [
    "v1 = np.array([[1, 2]]).T\n",
    "v2 = np.array([[3, 4]]).T\n",
    "\n",
    "U = np.array([\n",
    "    [1/np.sqrt(2), 1/np.sqrt(2)],\n",
    "    [1/np.sqrt(2)*1j, -1/np.sqrt(2)*1j]\n",
    "])\n",
    "\n",
    "print('v1:')\n",
    "print(v1)\n",
    "print('v2:')\n",
    "print(v2)\n",
    "print('U:')\n",
    "print(U)\n",
    "print('distance without U:')\n",
    "print(np.round(la.norm(v1 - v2), 5))\n",
    "print('distance with U:')\n",
    "print(np.round(la.norm(U@v1 - U@v2), 5))"
   ]
  },
  {
   "cell_type": "markdown",
   "id": "e5fc1c29",
   "metadata": {},
   "source": [
    "## Quantum Theory\n",
    "\n",
    "Quantum theory is concerned with the probability of making various measurements. However, becuase it uses complex amplitudes rather than standard probabilities, quantum theory allows for a phenomenon known as *interference*. \n",
    "\n",
    "If p1 and p2 are two real numbers between 0 and 1, then (p1 + p2) ≥ p1 and (p1 + p2) ≥ p2.\n",
    "\n",
    "However, if $c_1$ and $c_2$ are two complex numbers with associated squares of modulus $|c_1|^2$ and $|c_2|^2$, then $|c_1 + c_2|^2$ need not be bigger than $|c_1|^2$ and it also need not be bigger than $|c_2|^2$.\n",
    "\n",
    "For example:"
   ]
  },
  {
   "cell_type": "code",
   "execution_count": 44,
   "id": "0b14f9ff",
   "metadata": {},
   "outputs": [
    {
     "name": "stdout",
     "output_type": "stream",
     "text": [
      "modulus of c1 squared:\n",
      "34.0\n",
      "modulus of c2 squared:\n",
      "13.0\n",
      "modulus of sum squared:\n",
      "5.0\n"
     ]
    }
   ],
   "source": [
    "c1 = 5 + 3j  \n",
    "c2 = -3 - 2j\n",
    "\n",
    "print('modulus of c1 squared:')\n",
    "print(np.round((np.abs(c1) * np.abs(c1))))\n",
    "print('modulus of c2 squared:')\n",
    "print(np.round(np.abs(c2) * np.abs(c2)))\n",
    "\n",
    "print('modulus of sum squared:')\n",
    "print(np.round(np.abs(c1 + c2) * np.abs(c1 + c2)))"
   ]
  },
  {
   "cell_type": "markdown",
   "id": "566e2090",
   "metadata": {},
   "source": [
    "As preparation for using matrices to manipulate qbits, we can first encode classical bits as matrices indexed by binary numbers.\n",
    "\n",
    "For example, suppose we have a register consisting of two classical bits. These two bits can be in the following states:\n",
    "\n",
    "00\n",
    "01\n",
    "10\n",
    "11\n",
    "\n",
    "If we adopt the convention of indexing our vectors with binary numbers, then we can represent these four states with basis vectors as follows:\n",
    "\n",
    "00 -> [1, 0, 0, 0]\n",
    "\n",
    "01 -> [0, 1, 0, 0]\n",
    "\n",
    "10 -> [0, 0, 1, 0]\n",
    "\n",
    "11 -> [0, 0, 0, 1]\n",
    "\n",
    "The above encoding works by reading the current state of our bits as a binary number, and then writing a one in the position whose index (in binary) corresponds to that binary number. \n",
    "\n",
    "Notice that to represent the current state of two bits using this encoding, we require $2^2$ bits. In general, to represen the state of n bits using this encoding, we require $2^n$ bits.\n",
    "\n",
    "If we use [1 0] to represent the fact that a given bit is a 0, and we use [1, 0] to represent the fact that a given bit is zero, then we can use the kronecker product to compute the current overall state of our bits:"
   ]
  },
  {
   "cell_type": "code",
   "execution_count": 45,
   "id": "a0b974d0",
   "metadata": {},
   "outputs": [
    {
     "name": "stdout",
     "output_type": "stream",
     "text": [
      "00 = 0:\n",
      "[[1]\n",
      " [0]\n",
      " [0]\n",
      " [0]]\n",
      "01 = 1:\n",
      "[[0]\n",
      " [1]\n",
      " [0]\n",
      " [0]]\n",
      "10 = 2:\n",
      "[[0]\n",
      " [0]\n",
      " [1]\n",
      " [0]]\n",
      "11 = 3:\n",
      "[[0]\n",
      " [0]\n",
      " [0]\n",
      " [1]]\n"
     ]
    }
   ],
   "source": [
    "zero = np.array([[1, 0]]).T\n",
    "one = np.array([[0, 1]]).T\n",
    "\n",
    "print('00 = 0:')\n",
    "print(np.kron(zero, zero))\n",
    "print('01 = 1:')\n",
    "print(np.kron(zero, one))\n",
    "print('10 = 2:')\n",
    "print(np.kron(one, zero))\n",
    "print('11 = 3:')\n",
    "print(np.kron(one, one))"
   ]
  },
  {
   "cell_type": "markdown",
   "id": "2806cb84",
   "metadata": {},
   "source": [
    "Just as we can encode bits as vectors, we can encode logic gates as matrices that operate on those vectors. \n",
    "\n",
    "The simpliest logic gate to implement is the NOT gate:"
   ]
  },
  {
   "cell_type": "code",
   "execution_count": 46,
   "id": "99380679",
   "metadata": {},
   "outputs": [
    {
     "name": "stdout",
     "output_type": "stream",
     "text": [
      "zero:\n",
      "[[1]\n",
      " [0]]\n",
      "one:\n",
      "[[0]\n",
      " [1]]\n",
      "NOT of zero:\n",
      "[[0]\n",
      " [1]]\n",
      "one:\n",
      "[[0]\n",
      " [1]]\n",
      "NOT of one:\n",
      "[[1]\n",
      " [0]]\n"
     ]
    }
   ],
   "source": [
    "NOT = np.array([\n",
    "                [0, 1], \n",
    "                [1, 0]\n",
    "])\n",
    "\n",
    "print('zero:')\n",
    "print(zero)\n",
    "\n",
    "print('one:')\n",
    "print(one)\n",
    "\n",
    "print('NOT of zero:')\n",
    "print(NOT @ zero)\n",
    "\n",
    "print('one:')\n",
    "print(one)\n",
    "print('NOT of one:')\n",
    "print(NOT @ one)"
   ]
  },
  {
   "cell_type": "markdown",
   "id": "d72a13ab",
   "metadata": {},
   "source": [
    "Because AND takes to bits as input and returns one output, we need a 2 x 4 matrix to represent it. Only an input corresponding to 11 shoud return an output of 1:"
   ]
  },
  {
   "cell_type": "code",
   "execution_count": 47,
   "id": "68b33e14",
   "metadata": {},
   "outputs": [
    {
     "name": "stdout",
     "output_type": "stream",
     "text": [
      "zero:\n",
      "[[1]\n",
      " [0]]\n",
      "one:\n",
      "[[0]\n",
      " [1]]\n",
      "AND(00):\n",
      "[[1]\n",
      " [0]]\n",
      "AND(01):\n",
      "[[1]\n",
      " [0]]\n",
      "AND(10):\n",
      "[[1]\n",
      " [0]]\n",
      "AND(11):\n",
      "[[0]\n",
      " [1]]\n"
     ]
    }
   ],
   "source": [
    "AND = np.array([[1, 1, 1, 0],\n",
    "                [0, 0, 0, 1]\n",
    "               ])\n",
    "\n",
    "zero_zero = np.kron(zero, zero)\n",
    "zero_one = np.kron(zero, one)\n",
    "one_zero = np.kron(one, zero)\n",
    "one_one = np.kron(one, one)\n",
    "\n",
    "print('zero:')\n",
    "print(zero)\n",
    "\n",
    "print('one:')\n",
    "print(one)\n",
    "\n",
    "print('AND(00):')\n",
    "print(AND @ zero_zero)\n",
    "print('AND(01):')\n",
    "print(AND @ zero_one)\n",
    "print('AND(10):')\n",
    "print(AND @ one_zero)\n",
    "print('AND(11):')\n",
    "print(AND @ one_one)"
   ]
  },
  {
   "cell_type": "markdown",
   "id": "83f8d3a9",
   "metadata": {},
   "source": [
    "The OR gate can be implemented as follows:"
   ]
  },
  {
   "cell_type": "code",
   "execution_count": 48,
   "id": "45e16dcc",
   "metadata": {},
   "outputs": [
    {
     "name": "stdout",
     "output_type": "stream",
     "text": [
      "zero:\n",
      "[[1]\n",
      " [0]]\n",
      "one:\n",
      "[[0]\n",
      " [1]]\n",
      "OR(00):\n",
      "[[1]\n",
      " [0]]\n",
      "OR(01):\n",
      "[[0]\n",
      " [1]]\n",
      "OR(10):\n",
      "[[0]\n",
      " [1]]\n",
      "OR(11):\n",
      "[[0]\n",
      " [1]]\n"
     ]
    }
   ],
   "source": [
    "OR = np.array([[1, 0, 0, 0],\n",
    "               [0, 1, 1, 1]\n",
    "])\n",
    "\n",
    "print('zero:')\n",
    "print(zero)\n",
    "\n",
    "print('one:')\n",
    "print(one)\n",
    "\n",
    "print('OR(00):')\n",
    "print(OR @ zero_zero)\n",
    "print('OR(01):')\n",
    "print(OR @ zero_one)\n",
    "print('OR(10):')\n",
    "print(OR @ one_zero)\n",
    "print('OR(11):')\n",
    "print(OR @ one_one)"
   ]
  },
  {
   "cell_type": "markdown",
   "id": "6ef024a4",
   "metadata": {},
   "source": [
    "We can implement more complex gates such as NAND using matrix multiplication:"
   ]
  },
  {
   "cell_type": "code",
   "execution_count": 49,
   "id": "c74d6d0a",
   "metadata": {},
   "outputs": [
    {
     "name": "stdout",
     "output_type": "stream",
     "text": [
      "zero:\n",
      "[[1]\n",
      " [0]]\n",
      "one:\n",
      "[[0]\n",
      " [1]]\n",
      "NAND(00):\n",
      "[[0]\n",
      " [1]]\n",
      "NAND(01):\n",
      "[[0]\n",
      " [1]]\n",
      "OR(10):\n",
      "[[0]\n",
      " [1]]\n",
      "NAND(11):\n",
      "[[1]\n",
      " [0]]\n"
     ]
    }
   ],
   "source": [
    "NAND = NOT @ AND\n",
    "\n",
    "print('zero:')\n",
    "print(zero)\n",
    "\n",
    "print('one:')\n",
    "print(one)\n",
    "\n",
    "print('NAND(00):')\n",
    "print(NAND @ zero_zero)\n",
    "print('NAND(01):')\n",
    "print(NAND @ zero_one)\n",
    "print('OR(10):')\n",
    "print(NAND @ one_zero)\n",
    "print('NAND(11):')\n",
    "print(NAND @ one_one)"
   ]
  },
  {
   "cell_type": "markdown",
   "id": "5147ec11",
   "metadata": {},
   "source": [
    "We have seen that in the case of classical computing, if we have n bits we can represent the state of our bits with a vector of length $2^n$, where one entry is 1, and the remaining entries are 0. \n",
    "\n",
    "In the case of quantum computing, if we have n qbits we can represent the state of our qbits with a vector of length $2^n$, where each entry is a complex number, and the sum of the moduli squared of all of the complex numbers in the vector sum to 1.\n",
    "\n",
    "Because transformations on qbits must be represented by unitary operators, we cannot use classical operators such as AND, since they are not unitary.\n",
    "\n",
    "The NOT and IDENTITY gates are reversible, and there are others.\n",
    "\n",
    "The controlled-NOT gate takes two qbits as input and returns one qbit as output. The first input qbit is known as the *control qubit* and the second is known as the *target qubit*. If the control qubit is |1〉then the controlled-NOT gate flips the target qubit's state. Otherwose, the target qbit is left unchanged.\n",
    "\n",
    "The controlled-NOT gate works as follows:"
   ]
  },
  {
   "cell_type": "code",
   "execution_count": 50,
   "id": "3ec83321",
   "metadata": {},
   "outputs": [
    {
     "name": "stdout",
     "output_type": "stream",
     "text": [
      "zero:\n",
      "[[1]\n",
      " [0]]\n",
      "one:\n",
      "[[0]\n",
      " [1]]\n",
      "CNOT(00):\n",
      "[[1]\n",
      " [0]\n",
      " [0]\n",
      " [0]]\n",
      "CNOT(01):\n",
      "[[0]\n",
      " [1]\n",
      " [0]\n",
      " [0]]\n",
      "CNOT(10):\n",
      "[[0]\n",
      " [0]\n",
      " [0]\n",
      " [1]]\n",
      "CNOT(11):\n",
      "[[0]\n",
      " [0]\n",
      " [1]\n",
      " [0]]\n"
     ]
    }
   ],
   "source": [
    "CNOT = np.array([\n",
    "          [1, 0, 0, 0],\n",
    "          [0, 1, 0, 0],\n",
    "          [0, 0, 0, 1],\n",
    "          [0, 0, 1, 0]\n",
    "])\n",
    "\n",
    "zero_zero = np.kron(zero, zero)\n",
    "zero_one = np.kron(zero, one)\n",
    "one_zero = np.kron(one, zero)\n",
    "one_one = np.kron(one, one)\n",
    "\n",
    "print('zero:')\n",
    "print(zero)\n",
    "\n",
    "print('one:')\n",
    "print(one)\n",
    "\n",
    "# target qbit remains unchanged\n",
    "print('CNOT(00):')\n",
    "print(CNOT @ zero_zero)\n",
    "\n",
    "# target qbit remains unchanged\n",
    "print('CNOT(01):')\n",
    "print(CNOT @ zero_one)\n",
    "\n",
    "# target qbit is flipped\n",
    "print('CNOT(10):')\n",
    "print(CNOT @ one_zero)\n",
    "\n",
    "# target qbit is flipped\n",
    "print('CNOT(11):')\n",
    "print(CNOT @ one_one)"
   ]
  },
  {
   "cell_type": "markdown",
   "id": "2b53a504",
   "metadata": {},
   "source": [
    "The CNOT gate is its own inverse:"
   ]
  },
  {
   "cell_type": "code",
   "execution_count": 51,
   "id": "1a60eda4",
   "metadata": {},
   "outputs": [
    {
     "name": "stdout",
     "output_type": "stream",
     "text": [
      "CNOT times CNOT:\n",
      "[[1 0 0 0]\n",
      " [0 1 0 0]\n",
      " [0 0 1 0]\n",
      " [0 0 0 1]]\n"
     ]
    }
   ],
   "source": [
    "CNOT = np.array([\n",
    "          [1, 0, 0, 0],\n",
    "          [0, 1, 0, 0],\n",
    "          [0, 0, 0, 1],\n",
    "          [0, 0, 1, 0]\n",
    "])\n",
    "\n",
    "print('CNOT times CNOT:')\n",
    "print(CNOT @ CNOT)"
   ]
  },
  {
   "cell_type": "markdown",
   "id": "12892e31",
   "metadata": {},
   "source": [
    "## Interpretation of Quantum Gates\n",
    "\n",
    "We can get a better understanding of how to interpret quantum gates by visualizing how a given quantum gate changes the probabilities of making various measurements.\n",
    "\n",
    "For example, if we have two qbits, the Hadamard gate puts the qbits into a superposition, such that we have a 50% probability of measuring either the |0> state or the |1> state:"
   ]
  },
  {
   "cell_type": "code",
   "execution_count": 52,
   "id": "ddc4214f",
   "metadata": {},
   "outputs": [
    {
     "name": "stdout",
     "output_type": "stream",
     "text": [
      "zero state after applying Hadamard gate:\n",
      "[[0.70710678]\n",
      " [0.70710678]]\n",
      "one state after applying Hadamard gate:\n",
      "[[ 0.70710678]\n",
      " [-0.70710678]]\n"
     ]
    }
   ],
   "source": [
    "H = 1/np.sqrt(2.0) * np.array([[1,1],[1,-1]])\n",
    "\n",
    "zero = np.array([[1, 0]]).T\n",
    "one = np.array([[0, 1]]).T\n",
    "\n",
    "print('zero state after applying Hadamard gate:')\n",
    "print(H @ zero)\n",
    "\n",
    "print('one state after applying Hadamard gate:')\n",
    "print(H @ one)"
   ]
  },
  {
   "cell_type": "markdown",
   "id": "e2293abb",
   "metadata": {},
   "source": [
    "We can simulate a quantum measurement by computing the modulus squared of a weight and then comparing that value to a number selected from a uniform distribution between 0 and 1. Notice that in the case of the Hadamard basis, we measure zero about half the time, and one about half the time:"
   ]
  },
  {
   "cell_type": "code",
   "execution_count": 53,
   "id": "ed45083e",
   "metadata": {},
   "outputs": [
    {
     "name": "stdout",
     "output_type": "stream",
     "text": [
      "0\n",
      "0\n",
      "1\n",
      "1\n",
      "1\n",
      "1\n",
      "0\n",
      "0\n",
      "1\n",
      "0\n"
     ]
    }
   ],
   "source": [
    "def measure_in_computational_basis(state):\n",
    "    pr_zero = np.absolute(state[0])**2\n",
    "    U = np.random.uniform()\n",
    "    if pr_zero > U:\n",
    "        return 0\n",
    "    else:\n",
    "        return 1\n",
    "    \n",
    "H = 1/np.sqrt(2.0) * np.array([[1,1],[1,-1]])\n",
    "\n",
    "for _ in range(10):\n",
    "    print(measure_in_computational_basis(H @ zero))"
   ]
  },
  {
   "cell_type": "markdown",
   "id": "711b68fd",
   "metadata": {},
   "source": [
    "The Pauli Y Gate has the following effects:"
   ]
  },
  {
   "cell_type": "code",
   "execution_count": 54,
   "id": "756adb6a",
   "metadata": {},
   "outputs": [
    {
     "name": "stdout",
     "output_type": "stream",
     "text": [
      "zero:\n",
      "[[1]\n",
      " [0]]\n",
      "one:\n",
      "[[0]\n",
      " [1]]\n",
      "zero state after applying Y gate:\n",
      "[[0.+0.j]\n",
      " [0.+1.j]]\n",
      "one state after applying Y gate:\n",
      "[[0.-1.j]\n",
      " [0.+0.j]]\n"
     ]
    }
   ],
   "source": [
    "Y = np.array([\n",
    "                [0, -1j], \n",
    "                [1j, 0]\n",
    "])\n",
    "\n",
    "print('zero:')\n",
    "print(zero)\n",
    "\n",
    "print('one:')\n",
    "print(one)\n",
    "\n",
    "print('zero state after applying Y gate:')\n",
    "print(Y @ zero)\n",
    "\n",
    "print('one state after applying Y gate:')\n",
    "print(Y @ one)"
   ]
  },
  {
   "cell_type": "markdown",
   "id": "04651031",
   "metadata": {},
   "source": [
    "The Pauli Z gate has the following effects:"
   ]
  },
  {
   "cell_type": "code",
   "execution_count": 55,
   "id": "146dcfef",
   "metadata": {},
   "outputs": [
    {
     "name": "stdout",
     "output_type": "stream",
     "text": [
      "zero:\n",
      "[[1]\n",
      " [0]]\n",
      "one:\n",
      "[[0]\n",
      " [1]]\n",
      "zero state after applying Z gate:\n",
      "[[1]\n",
      " [0]]\n",
      "one state after applying Z gate:\n",
      "[[ 0]\n",
      " [-1]]\n"
     ]
    }
   ],
   "source": [
    "Z = np.array([\n",
    "                [1, 0], \n",
    "                [0, -1]\n",
    "])\n",
    "\n",
    "print('zero:')\n",
    "print(zero)\n",
    "\n",
    "print('one:')\n",
    "print(one)\n",
    "\n",
    "print('zero state after applying Z gate:')\n",
    "print(Z @ zero)\n",
    "\n",
    "print('one state after applying Z gate:')\n",
    "print(Z @ one)"
   ]
  },
  {
   "cell_type": "markdown",
   "id": "a21de6c7",
   "metadata": {},
   "source": [
    "The Phase gate has the following effects:"
   ]
  },
  {
   "cell_type": "code",
   "execution_count": 56,
   "id": "c13e19e2",
   "metadata": {},
   "outputs": [
    {
     "name": "stdout",
     "output_type": "stream",
     "text": [
      "zero:\n",
      "[[1]\n",
      " [0]]\n",
      "one:\n",
      "[[0]\n",
      " [1]]\n",
      "zero state after applying PHASE gate:\n",
      "[[1.+0.j]\n",
      " [0.+0.j]]\n",
      "one state after applying PHASE gate:\n",
      "[[0.+0.j]\n",
      " [0.+1.j]]\n"
     ]
    }
   ],
   "source": [
    "PHASE = np.array([\n",
    "                [1, 0], \n",
    "                [0, 1j]\n",
    "])\n",
    "\n",
    "print('zero:')\n",
    "print(zero)\n",
    "\n",
    "print('one:')\n",
    "print(one)\n",
    "\n",
    "print('zero state after applying PHASE gate:')\n",
    "print(PHASE @ zero)\n",
    "\n",
    "print('one state after applying PHASE gate:')\n",
    "print(PHASE @ one)"
   ]
  },
  {
   "cell_type": "markdown",
   "id": "6824cd67",
   "metadata": {},
   "source": [
    "The following implementation of Gover's algorithm gives a sense of how quantum algorithms work. Instead of searching directly for a bit string such as 101, we can instead boost the amplitude corresponding to index 5 in a qbit array: \n",
    "\n",
    "Based on https://quantumcomputing.stackexchange.com/q/5364"
   ]
  },
  {
   "cell_type": "code",
   "execution_count": 57,
   "id": "9ebaf8f9",
   "metadata": {},
   "outputs": [
    {
     "name": "stdout",
     "output_type": "stream",
     "text": [
      "[[-0.088+0.j]\n",
      " [-0.088+0.j]\n",
      " [-0.088+0.j]\n",
      " [-0.088+0.j]\n",
      " [-0.088+0.j]\n",
      " [ 0.972+0.j]\n",
      " [-0.088+0.j]\n",
      " [-0.088+0.j]]\n"
     ]
    }
   ],
   "source": [
    "def dagger(m):\n",
    "    return np.transpose(np.conjugate(m))\n",
    "\n",
    "def proj(m):\n",
    "    return m * dagger(m)\n",
    "\n",
    "# identity matrix for 3 qubits = 8x8 matrix\n",
    "identity = np.identity(2**3)\n",
    "\n",
    "# hadamard matrix for 1, 2 and 3 qubits\n",
    "H1 = (1 / np.sqrt(2)) * np.matrix([[1.0, 1.0], [1.0, -1.0]], dtype=np.complex256) \n",
    "H2 = np.kron(H1, H1)\n",
    "H3 = np.kron(H2, H1)\n",
    "\n",
    "# 3 qubit zero vector |000>\n",
    "zero3 = np.array([[1],[0],[0],[0],[0],[0],[0],[0]], dtype=np.complex256)\n",
    "\n",
    "# phase shift operator  2*|0><0| - I  for 3 qubits\n",
    "PS3 = 2 * proj(zero3) - identity\n",
    "\n",
    "# reflection around the mean\n",
    "R = H3 * PS3 * H3\n",
    "\n",
    "# 3 qbit oracle, marking/negating state |101> = column vector (0 0 0 0 0 1 0 0)\n",
    "O = identity\n",
    "O[5,5] = -1\n",
    "\n",
    "# grover operator\n",
    "G = R * O\n",
    "\n",
    "# start state |000>\n",
    "x0 = H3 * zero3\n",
    "\n",
    "# apply grover step two times\n",
    "x1 = G * x0\n",
    "\n",
    "x2 = G * x1\n",
    "print (np.round(x2, 3))"
   ]
  },
  {
   "cell_type": "code",
   "execution_count": null,
   "id": "28cb570b",
   "metadata": {},
   "outputs": [],
   "source": []
  }
 ],
 "metadata": {
  "kernelspec": {
   "display_name": "Python 3",
   "language": "python",
   "name": "python3"
  },
  "language_info": {
   "codemirror_mode": {
    "name": "ipython",
    "version": 3
   },
   "file_extension": ".py",
   "mimetype": "text/x-python",
   "name": "python",
   "nbconvert_exporter": "python",
   "pygments_lexer": "ipython3",
   "version": "3.9.1"
  }
 },
 "nbformat": 4,
 "nbformat_minor": 5
}
