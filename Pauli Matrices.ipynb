{
 "cells": [
  {
   "cell_type": "markdown",
   "id": "10785659",
   "metadata": {},
   "source": [
    "# Pauli Matrices\n",
    "\n",
    "The Pauli spin matrices are defined as follows:"
   ]
  },
  {
   "cell_type": "code",
   "execution_count": 1,
   "id": "6a9ba0dc",
   "metadata": {},
   "outputs": [
    {
     "name": "stdout",
     "output_type": "stream",
     "text": [
      "X:\n",
      "[[0 1]\n",
      " [1 0]]\n",
      "Y:\n",
      "[[ 0.+0.j -0.-1.j]\n",
      " [ 0.+1.j  0.+0.j]]\n",
      "Z:\n",
      "[[ 1  0]\n",
      " [ 0 -1]]\n"
     ]
    }
   ],
   "source": [
    "import numpy as np\n",
    "\n",
    "\n",
    "X = np.array([\n",
    "                [0, 1], \n",
    "                [1, 0]\n",
    "])\n",
    "\n",
    "Y = np.array([\n",
    "                [0, -1j], \n",
    "                [1j, 0]\n",
    "])\n",
    "\n",
    "Z = np.array([\n",
    "                [1, 0], \n",
    "                [0, -1]\n",
    "])\n",
    "\n",
    "print ('X:')\n",
    "print(X)\n",
    "\n",
    "print ('Y:')\n",
    "print(Y)\n",
    "\n",
    "print ('Z:')\n",
    "print(Z)"
   ]
  },
  {
   "cell_type": "markdown",
   "id": "3851eef2",
   "metadata": {},
   "source": [
    "In physical contexts, the each Pauli matrix is multiplied by $\\hbar /2.$ See here for how the Pauli matrices can be used to model the spin of an electron: https://chemphys.uconn.edu/~ch351vc/pdfs/spin1.pdf\n",
    "\n",
    "The Pauli matrices are a basis for the vector space of 2 x 2 Hermitian matrices with complex entries. The Pauli matrices together with the identity matrix are a basis for the vector space of 2 x 2 matrices. complex entries. That is, any 2 x 2 matrix can be expressed as a linear combination of these four matrices.\n",
    "\n",
    "Because all single-qubit quantum gates can be represented by 2 × 2 unitary matrices, any single qubit quantum gate can be expressed as a linear combination of Pauli matrices.\n",
    "\n",
    "The Pauli matrices satisfy the following properties:\n",
    "\n",
    "1. Each Pauli matrix is unitary.\n",
    "2. Each Pauli matrix is Hermitian.\n",
    "3. The square of any Pauli matrix is the identity matrix. A matrix which is its own inverse is called *involutory*.\n",
    "4. The determinant of each Pauli matrix is -1.\n",
    "5. The trace of each Pauli matrix is 0.\n",
    "6. If we multiply any two distinct Pauli matrices, we get the negative of the third Pauli matrix.\n",
    "\n",
    "We can see that these properties hold as follows:"
   ]
  },
  {
   "cell_type": "code",
   "execution_count": 2,
   "id": "ff8db30b",
   "metadata": {},
   "outputs": [
    {
     "name": "stdout",
     "output_type": "stream",
     "text": [
      "each Pauli matrix is unitary:\n",
      "True\n",
      "True\n",
      "True\n",
      "each Pauli matrix is hermitian:\n",
      "True\n",
      "True\n",
      "True\n",
      "each Pauli matrix is involutory:\n",
      "True\n",
      "True\n",
      "True\n",
      "each Pauli matrix has a determinant of -1:\n",
      "-1.0\n",
      "(-1+0j)\n",
      "-1.0\n",
      "each Pauli matrix has a trace of 0:\n",
      "0\n",
      "0j\n",
      "0\n",
      "multiplication of two distinct Pauli matirces yields the negative of the third:\n",
      "[[0.+1.j 0.+0.j]\n",
      " [0.+0.j 0.-1.j]]\n",
      "[[ 1  0]\n",
      " [ 0 -1]]\n"
     ]
    }
   ],
   "source": [
    "import numpy.linalg as la\n",
    "\n",
    "def dagger(matrix):\n",
    "    return np.transpose(np.conjugate(matrix))\n",
    "\n",
    "def project(matrix):\n",
    "    return matrix @ dagger(matrix)\n",
    "\n",
    "# pauli matrices are often collected into one vector\n",
    "S = [X, Y, Z]\n",
    "\n",
    "print('each Pauli matrix is unitary:')\n",
    "for i in range(3):\n",
    "    print(np.array_equal(project(S[i]), np.eye(2)))\n",
    "\n",
    "print('each Pauli matrix is hermitian:')\n",
    "for i in range(3):\n",
    "    print(np.array_equal(S[i], dagger(S[i])))\n",
    "\n",
    "print('each Pauli matrix is involutory:')\n",
    "for i in range(3):\n",
    "    print(np.array_equal(S[i] @ S[i], np.eye(2)))\n",
    "    \n",
    "print('each Pauli matrix has a determinant of -1:')\n",
    "for i in range(3):\n",
    "    print(la.det(S[i]))\n",
    "    \n",
    "print('each Pauli matrix has a trace of 0:')\n",
    "for i in range(3):\n",
    "    print(np.trace(S[i]))\n",
    "    \n",
    "print('multiplication of two distinct Pauli matirces yields the negative of the third:')\n",
    "print((S[0] @ S[1]))\n",
    "print(S[2])"
   ]
  },
  {
   "cell_type": "markdown",
   "id": "2bc9cb5a",
   "metadata": {},
   "source": [
    "The value of the Levi-Civita symbol is 1 if (i, j, k) is an *even permutation* of (0, 1, 2), −1 for *odd permutations* and 0 for all other cases.\n",
    "\n",
    "In particular, the three-dimensional *Levi-Civita symbol* is a function *f* taking triples of numbers (i,j,k) each in {0, 1, 2}, to {-1,0,1}, defined as:\n",
    "\n",
    "f(i,j,k) = 0 when i,j,k are not distinct, i.e. i=j or j=k or k=i\n",
    "f(i,j,k) = 1 when (i,j,k) is a cyclic shift of (0, 1, 2), that is one of (0, 1, 2), (1, 2, 0), (2 ,0, 1).\n",
    "f(i,j,k) = -1 when (i,j,k) is a cyclic shift of (2 ,1, 0), that is one of (2, 1, 0), (1, 0, 2), (0, 2, 1).\n",
    "\n",
    "We can implement the Levi-Civita symbol as follows:"
   ]
  },
  {
   "cell_type": "code",
   "execution_count": 3,
   "id": "1116f6f2",
   "metadata": {},
   "outputs": [
    {
     "name": "stdout",
     "output_type": "stream",
     "text": [
      "0\n",
      "0\n",
      "0\n",
      "1\n",
      "1\n",
      "1\n",
      "-1\n",
      "-1\n",
      "-1\n"
     ]
    }
   ],
   "source": [
    "def levi_civita(three_tuple):\n",
    "    if (three_tuple[0] == three_tuple[1] or \n",
    "        three_tuple[1] == three_tuple[2] \n",
    "        or three_tuple[0] == three_tuple[2]):\n",
    "        return 0\n",
    "    if three_tuple == (0, 1, 2) or three_tuple == (1, 2, 0) or three_tuple == (2, 0, 1):\n",
    "        return 1\n",
    "    return -1\n",
    "\n",
    "print(levi_civita((0, 0, 3)))\n",
    "print(levi_civita((0, 1, 1)))\n",
    "print(levi_civita((2, 1, 2)))\n",
    "\n",
    "print(levi_civita((0, 1, 2)))\n",
    "print(levi_civita((1, 2, 0)))\n",
    "print(levi_civita((2, 0, 1)))\n",
    "\n",
    "print(levi_civita((2, 1, 0)))\n",
    "print(levi_civita((1, 0, 2)))\n",
    "print(levi_civita((0, 2, 1)))\n"
   ]
  },
  {
   "cell_type": "code",
   "execution_count": 4,
   "id": "440d2163",
   "metadata": {},
   "outputs": [
    {
     "name": "stdout",
     "output_type": "stream",
     "text": [
      "commutation relation 1:\n",
      "[[0.+2.j 0.+0.j]\n",
      " [0.+0.j 0.-2.j]]\n",
      "[[ 0.+2.j  0.+0.j]\n",
      " [ 0.+0.j -0.-2.j]]\n",
      "commutation relation 2:\n",
      "[[0.-2.j 0.+0.j]\n",
      " [0.+0.j 0.+2.j]]\n",
      "[[0.-2.j 0.-0.j]\n",
      " [0.-0.j 0.+2.j]]\n",
      "commutation relation 3:\n",
      "[[0.+0.j 0.+2.j]\n",
      " [0.+2.j 0.+0.j]]\n",
      "[[0.+0.j 0.+2.j]\n",
      " [0.+2.j 0.+0.j]]\n",
      "commutation relation 4:\n",
      "[[0.+0.j 0.-2.j]\n",
      " [0.-2.j 0.+0.j]]\n",
      "[[0.-0.j 0.-2.j]\n",
      " [0.-2.j 0.-0.j]]\n",
      "commutation relation 5:\n",
      "[[ 0 -2]\n",
      " [ 2  0]]\n",
      "[[ 0.-0.j -2.+0.j]\n",
      " [ 2.-0.j  0.-0.j]]\n",
      "commutation relation 6:\n",
      "[[ 0  2]\n",
      " [-2  0]]\n",
      "[[ 0.+0.j  2.-0.j]\n",
      " [-2.+0.j  0.+0.j]]\n"
     ]
    }
   ],
   "source": [
    "print('commutation relation 1:')\n",
    "print(S[0] @ S[1] - S[1] @ S[0])\n",
    "print(2j * levi_civita((0, 1, 2)) * S[2])\n",
    "\n",
    "print('commutation relation 2:')\n",
    "print(S[1] @ S[0] - S[0] @ S[1])\n",
    "print(2j * levi_civita((1, 0, 2)) * S[2])\n",
    "\n",
    "print('commutation relation 3:')\n",
    "print(S[1] @ S[2] - S[2] @ S[1])\n",
    "print(2j * levi_civita((1, 2, 0)) * S[0])\n",
    "\n",
    "print('commutation relation 4:')\n",
    "print(S[2] @ S[1] - S[1] @ S[2])\n",
    "print(2j * levi_civita((2, 1, 0)) * S[0])\n",
    "\n",
    "print('commutation relation 5:')\n",
    "print(S[0] @ S[2] - S[2] @ S[0])\n",
    "print(2j * levi_civita((0, 2, 1)) * S[1])\n",
    "\n",
    "print('commutation relation 6:')\n",
    "print(S[2] @ S[0] - S[0] @ S[2])\n",
    "print(2j * levi_civita((2, 0, 1)) * S[1])"
   ]
  },
  {
   "cell_type": "markdown",
   "id": "577446c7",
   "metadata": {},
   "source": [
    "The following argument shows that any 2 x 2 matrix can be expressed as a linear combination of the three Pauli matrices together with the identity matrix:\n",
    "\n",
    "$A = \\begin{bmatrix}a & b\\\\c & d\\end{bmatrix}$\n",
    "\n",
    "$= \\lambda_0 I +\\lambda_x X +\\lambda_y Y +\\lambda_z Z$ \n",
    "\n",
    "$= \\begin{bmatrix}\\lambda_0 + \\lambda_z & \\lambda_x - i\\lambda_y\\\\\\lambda_x + i\\lambda_y & \\lambda_0 -  \\lambda_z \\end{bmatrix}$ \n",
    "\n",
    "which yields:\n",
    "\n",
    "$a = \\lambda_0 + \\lambda_z,$\n",
    "\n",
    "$b = \\lambda_x - i\\lambda_y,$\n",
    "\n",
    "$c = \\lambda_x + i\\lambda_y,$\n",
    "\n",
    "$d = \\lambda_0 -  \\lambda_z.$\n",
    "\n",
    "Solving these equations leads to the following:\n",
    "\n",
    "$\\lambda_0 = \\frac{a + d}{2},$\n",
    "\n",
    "$\\lambda_x = \\frac{b + c}{2},$\n",
    "\n",
    "$\\lambda_y = \\frac{c - b}{2i},$\n",
    "\n",
    "$\\lambda_z = \\frac{a - d}{2}.$ \n",
    "\n",
    "We can implement a function that expresses an arbitrary matrix A as a linear combination of the above matrices as follows:"
   ]
  },
  {
   "cell_type": "code",
   "execution_count": 5,
   "id": "a86799be",
   "metadata": {},
   "outputs": [
    {
     "name": "stdout",
     "output_type": "stream",
     "text": [
      "A:\n",
      "[[10.+0.j  5.+2.j]\n",
      " [ 3.+4.j 15.+0.j]]\n",
      "linear combination that equals A:\n",
      "[[10.+0.j  5.+2.j]\n",
      " [ 3.+4.j 15.+0.j]]\n"
     ]
    }
   ],
   "source": [
    "def pauli_decompose(A):\n",
    "    '''factors a 2 x 2 matrix into a linear combination of pauli matrices.'''\n",
    "    a = A[0][0]\n",
    "    b = A[0][1]\n",
    "    c = A[1][0]\n",
    "    d = A[1][1]\n",
    "    \n",
    "    lambda_0 = ((a+d)/2)\n",
    "    lambda_x = (b+c)/2\n",
    "    lambda_y = (c-b)/2j\n",
    "    lambda_z = (a-d)/2\n",
    "    \n",
    "    scalars = [lambda_0, lambda_x, lambda_y, lambda_z]\n",
    "    return scalars\n",
    "\n",
    "A = np.array([\n",
    "              [10, 5 + 2j], \n",
    "              [3 + 4j, 15]\n",
    "])\n",
    "\n",
    "scalars = pauli_decompose(A)\n",
    "linear_combination = (scalars[0] * np.eye(2)) + (scalars[1] * X) + (scalars[2] * Y) + scalars[3] * Z\n",
    "\n",
    "print('A:')\n",
    "print(A)\n",
    "\n",
    "print('linear combination that equals A:')\n",
    "print(linear_combination)"
   ]
  },
  {
   "cell_type": "markdown",
   "id": "04199f15",
   "metadata": {},
   "source": [
    "The matrices $\\sigma_-$ and $\\sigma_+$ are defined as follows and also have interesting properties:  "
   ]
  },
  {
   "cell_type": "code",
   "execution_count": 6,
   "id": "2451f7c4",
   "metadata": {},
   "outputs": [
    {
     "name": "stdout",
     "output_type": "stream",
     "text": [
      "sigma plus:\n",
      "[[0.+0.j 1.+0.j]\n",
      " [0.+0.j 0.+0.j]]\n",
      "sigma minus:\n",
      "[[0.+0.j 0.+0.j]\n",
      " [1.+0.j 0.+0.j]]\n",
      "anti commutator is the identity:\n",
      "[[1.+0.j 0.+0.j]\n",
      " [0.+0.j 1.+0.j]]\n",
      "the squared value of each matrix is the zero matrix:\n",
      "[[0.+0.j 0.+0.j]\n",
      " [0.+0.j 0.+0.j]]\n",
      "[[0.+0.j 0.+0.j]\n",
      " [0.+0.j 0.+0.j]]\n"
     ]
    }
   ],
   "source": [
    "sigma_plus = 0.5 * (X + Y*1j)\n",
    "sigma_minus = 0.5 * (X - Y*1j)\n",
    "\n",
    "print('sigma plus:')\n",
    "print(sigma_plus)\n",
    "\n",
    "print('sigma minus:')\n",
    "print(sigma_minus)\n",
    "\n",
    "anti_commutator = sigma_plus @ sigma_minus + sigma_minus @ sigma_plus\n",
    "\n",
    "print('anti commutator is the identity:')\n",
    "print(anti_commutator)\n",
    "\n",
    "print('the squared value of each matrix is the zero matrix:')\n",
    "\n",
    "print(sigma_plus @ sigma_plus)\n",
    "print(sigma_minus @ sigma_minus)"
   ]
  }
 ],
 "metadata": {
  "kernelspec": {
   "display_name": "Python 3",
   "language": "python",
   "name": "python3"
  },
  "language_info": {
   "codemirror_mode": {
    "name": "ipython",
    "version": 3
   },
   "file_extension": ".py",
   "mimetype": "text/x-python",
   "name": "python",
   "nbconvert_exporter": "python",
   "pygments_lexer": "ipython3",
   "version": "3.9.1"
  }
 },
 "nbformat": 4,
 "nbformat_minor": 5
}
